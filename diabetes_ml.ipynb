{
 "cells": [
  {
   "cell_type": "code",
   "execution_count": 1,
   "metadata": {},
   "outputs": [],
   "source": [
    "# import libraries\n",
    "\n",
    "import pandas as pd\n",
    "import numpy as np\n",
    "from sklearn.preprocessing import StandardScaler\n",
    "from sklearn.model_selection import train_test_split\n",
    "from sklearn import svm\n",
    "from sklearn.metrics import accuracy_score"
   ]
  },
  {
   "cell_type": "markdown",
   "metadata": {},
   "source": [
    "#### Data Collection"
   ]
  },
  {
   "cell_type": "code",
   "execution_count": 2,
   "metadata": {},
   "outputs": [
    {
     "name": "stdout",
     "output_type": "stream",
     "text": [
      "Downloading pima-indians-diabetes-database.zip to /home/faisal/Documents/CODE/PYTHON/Diabetes_Prediction_using_ML\n",
      "  0%|                                               | 0.00/8.91k [00:00<?, ?B/s]\n",
      "100%|██████████████████████████████████████| 8.91k/8.91k [00:00<00:00, 2.72MB/s]\n",
      "Archive:  pima-indians-diabetes-database.zip\n",
      "  inflating: diabetes.csv            \n"
     ]
    }
   ],
   "source": [
    "! kaggle datasets download -d uciml/pima-indians-diabetes-database\n",
    "! unzip pima-indians-diabetes-database"
   ]
  },
  {
   "cell_type": "markdown",
   "metadata": {},
   "source": [
    "#### Data Analysis and Preprocessing"
   ]
  },
  {
   "cell_type": "code",
   "execution_count": null,
   "metadata": {},
   "outputs": [],
   "source": []
  }
 ],
 "metadata": {
  "kernelspec": {
   "display_name": "Python 3.10.4 ('ml_venv': venv)",
   "language": "python",
   "name": "python3"
  },
  "language_info": {
   "codemirror_mode": {
    "name": "ipython",
    "version": 3
   },
   "file_extension": ".py",
   "mimetype": "text/x-python",
   "name": "python",
   "nbconvert_exporter": "python",
   "pygments_lexer": "ipython3",
   "version": "3.10.4"
  },
  "orig_nbformat": 4,
  "vscode": {
   "interpreter": {
    "hash": "eab1693ce535894ae874b9a6720726fdb6acee477c26dafdd1a71d0478d8a041"
   }
  }
 },
 "nbformat": 4,
 "nbformat_minor": 2
}
